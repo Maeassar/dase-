{
 "cells": [
  {
   "cell_type": "code",
   "execution_count": 8,
   "id": "e1a3f1de-2448-42d6-ada7-65424c7c61ad",
   "metadata": {},
   "outputs": [
    {
     "name": "stdout",
     "output_type": "stream",
     "text": [
      "[5, 4, 3, 2, 1]\n"
     ]
    }
   ],
   "source": [
    "list = [1,2,3,4,5]\n",
    "list_n = [0,0,0,0,0]\n",
    "for i in range(0, 5):\n",
    "    list_n[i] = list[4-i]\n",
    "print(list_n)"
   ]
  },
  {
   "cell_type": "code",
   "execution_count": 9,
   "id": "723a6960-e6f7-477b-803d-c2f45a58ec87",
   "metadata": {},
   "outputs": [
    {
     "name": "stdout",
     "output_type": "stream",
     "text": [
      "[5, 4, 3, 2, 1]\n"
     ]
    }
   ],
   "source": [
    "list = [1,2,3,4,5]\n",
    "list_n = [0,0,0,0,0]\n",
    "i = 0\n",
    "while i < 5:\n",
    "    list_n[i] = list[4-i]\n",
    "    i = i + 1\n",
    "print(list_n)"
   ]
  },
  {
   "cell_type": "code",
   "execution_count": 18,
   "id": "ffd86e34-07fc-4ce4-96d3-47fd0fd72327",
   "metadata": {},
   "outputs": [
    {
     "name": "stdout",
     "output_type": "stream",
     "text": [
      "[5, 4, 3, 2, 1]\n"
     ]
    }
   ],
   "source": [
    "list = [1,2,3,4,5]\n",
    "list_n = list[::(-1)]\n",
    "print(list_n)"
   ]
  },
  {
   "cell_type": "code",
   "execution_count": null,
   "id": "f5d15747-c20b-4139-9655-89305a44f8f2",
   "metadata": {},
   "outputs": [],
   "source": []
  }
 ],
 "metadata": {
  "kernelspec": {
   "display_name": "Python 3 (ipykernel)",
   "language": "python",
   "name": "python3"
  },
  "language_info": {
   "codemirror_mode": {
    "name": "ipython",
    "version": 3
   },
   "file_extension": ".py",
   "mimetype": "text/x-python",
   "name": "python",
   "nbconvert_exporter": "python",
   "pygments_lexer": "ipython3",
   "version": "3.9.12"
  }
 },
 "nbformat": 4,
 "nbformat_minor": 5
}
