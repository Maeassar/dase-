{
 "cells": [
  {
   "cell_type": "code",
   "execution_count": 5,
   "id": "95d0f97c-ba14-4d08-9289-2eff24a6c3e1",
   "metadata": {},
   "outputs": [
    {
     "name": "stdin",
     "output_type": "stream",
     "text": [
      "请输入 a s dd \n"
     ]
    },
    {
     "name": "stdout",
     "output_type": "stream",
     "text": [
      "asdd\n"
     ]
    }
   ],
   "source": [
    "str = input(\"请输入\")\n",
    "result = \"\".join(str.split())\n",
    "print(result)"
   ]
  },
  {
   "cell_type": "code",
   "execution_count": null,
   "id": "07a8a019-4a25-47ef-b06b-552e3bc4bce4",
   "metadata": {},
   "outputs": [],
   "source": []
  }
 ],
 "metadata": {
  "kernelspec": {
   "display_name": "Python 3 (ipykernel)",
   "language": "python",
   "name": "python3"
  },
  "language_info": {
   "codemirror_mode": {
    "name": "ipython",
    "version": 3
   },
   "file_extension": ".py",
   "mimetype": "text/x-python",
   "name": "python",
   "nbconvert_exporter": "python",
   "pygments_lexer": "ipython3",
   "version": "3.9.12"
  }
 },
 "nbformat": 4,
 "nbformat_minor": 5
}
