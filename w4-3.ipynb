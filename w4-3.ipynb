{
 "cells": [
  {
   "cell_type": "code",
   "execution_count": 22,
   "id": "4b4526d4-2d91-489f-9824-e0f2b863578b",
   "metadata": {},
   "outputs": [
    {
     "name": "stdin",
     "output_type": "stream",
     "text": [
      "请输入： abccccda\n"
     ]
    },
    {
     "name": "stdout",
     "output_type": "stream",
     "text": [
      "Yes\n",
      "4\n"
     ]
    }
   ],
   "source": [
    "import math\n",
    "str = input(\"请输入：\")\n",
    "size_n = len(str)\n",
    "cnt_all = 1\n",
    "cnt = []\n",
    "\n",
    "for i in range(0, size_n):\n",
    "    cnt.append(1);\n",
    "    \n",
    "for j in range(0, size_n-1):\n",
    "    if str[j] == str[j+1]:\n",
    "        cnt[j] = cnt[j-1] + 1\n",
    "        cnt_all = max(cnt_all, cnt[j])\n",
    "        \n",
    "if cnt == 1:\n",
    "    print(\"No\")\n",
    "else:\n",
    "    print(\"Yes\")\n",
    "    print(cnt_all)\n"
   ]
  },
  {
   "cell_type": "code",
   "execution_count": null,
   "id": "761a814f-6bf1-4bd5-a31e-bdcb89a9657c",
   "metadata": {},
   "outputs": [],
   "source": []
  }
 ],
 "metadata": {
  "kernelspec": {
   "display_name": "Python 3 (ipykernel)",
   "language": "python",
   "name": "python3"
  },
  "language_info": {
   "codemirror_mode": {
    "name": "ipython",
    "version": 3
   },
   "file_extension": ".py",
   "mimetype": "text/x-python",
   "name": "python",
   "nbconvert_exporter": "python",
   "pygments_lexer": "ipython3",
   "version": "3.9.12"
  }
 },
 "nbformat": 4,
 "nbformat_minor": 5
}
