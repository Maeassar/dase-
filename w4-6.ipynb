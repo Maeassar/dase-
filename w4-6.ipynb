{
 "cells": [
  {
   "cell_type": "code",
   "execution_count": 1,
   "id": "4cf7a65e-7214-44e4-ae56-daf8c74b9a84",
   "metadata": {},
   "outputs": [
    {
     "name": "stdout",
     "output_type": "stream",
     "text": [
      "1.4141800000027134\n"
     ]
    }
   ],
   "source": [
    "import random\n",
    "c = 2\n",
    "select = float(random.randint(0,c))\n",
    "while not(select * select<c and (select + 1)*(select + 1)>c):\n",
    "    select = float(random.randint(0,c))\n",
    "while abs(select * select - c) >= 0.0001:\n",
    "    select = select + 0.00001\n",
    "print(select)\n",
    "    "
   ]
  },
  {
   "cell_type": "code",
   "execution_count": 2,
   "id": "8409d8d3-2f56-4372-919e-7a73c35f31e7",
   "metadata": {},
   "outputs": [
    {
     "name": "stdout",
     "output_type": "stream",
     "text": [
      "1.414215087890625\n"
     ]
    }
   ],
   "source": [
    "c = 2\n",
    "min = 0\n",
    "max = c\n",
    "g = (min + max) / 2\n",
    "while abs(g * g - c) >= 0.00001:\n",
    "    if g * g < c :\n",
    "        min = g\n",
    "    else:\n",
    "        max = g\n",
    "    g = (min + max) / 2\n",
    "print(g)"
   ]
  },
  {
   "cell_type": "code",
   "execution_count": 3,
   "id": "a1f65e49-845c-43bf-97ac-44249ce9059c",
   "metadata": {},
   "outputs": [
    {
     "name": "stdout",
     "output_type": "stream",
     "text": [
      "1.4142156862745097\n"
     ]
    }
   ],
   "source": [
    "c = 2\n",
    "g = c/2\n",
    "i = 0\n",
    "while(abs(g * g - c) >= 0.00001):\n",
    "    g = (g + c/g) / 2\n",
    "    i = i + 1\n",
    "print(g)"
   ]
  }
 ],
 "metadata": {
  "kernelspec": {
   "display_name": "Python 3 (ipykernel)",
   "language": "python",
   "name": "python3"
  },
  "language_info": {
   "codemirror_mode": {
    "name": "ipython",
    "version": 3
   },
   "file_extension": ".py",
   "mimetype": "text/x-python",
   "name": "python",
   "nbconvert_exporter": "python",
   "pygments_lexer": "ipython3",
   "version": "3.9.12"
  }
 },
 "nbformat": 4,
 "nbformat_minor": 5
}
