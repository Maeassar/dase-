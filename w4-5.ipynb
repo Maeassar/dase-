{
 "cells": [
  {
   "cell_type": "code",
   "execution_count": 2,
   "id": "edfd2582-c47b-460f-8632-046b9c804710",
   "metadata": {},
   "outputs": [
    {
     "name": "stdout",
     "output_type": "stream",
     "text": [
      "0.583623\n"
     ]
    }
   ],
   "source": [
    "import math\n",
    "import random\n",
    "c = 0\n",
    "N = 10000000\n",
    "\n",
    "def f(a):\n",
    "    return math.pow(a,3)+math.pow(a,2)\n",
    "\n",
    "for i in range(N):\n",
    "    x = random.uniform(0.0,1.0)\n",
    "    y = random.uniform(0.0, 10)\n",
    "    if y <= f(x):\n",
    "        c = c + 1\n",
    "print(c / N * 10)\n"
   ]
  },
  {
   "cell_type": "code",
   "execution_count": null,
   "id": "4ce66faa-90f5-4483-88fa-dd21d1207860",
   "metadata": {},
   "outputs": [],
   "source": []
  }
 ],
 "metadata": {
  "kernelspec": {
   "display_name": "Python 3 (ipykernel)",
   "language": "python",
   "name": "python3"
  },
  "language_info": {
   "codemirror_mode": {
    "name": "ipython",
    "version": 3
   },
   "file_extension": ".py",
   "mimetype": "text/x-python",
   "name": "python",
   "nbconvert_exporter": "python",
   "pygments_lexer": "ipython3",
   "version": "3.9.12"
  }
 },
 "nbformat": 4,
 "nbformat_minor": 5
}
