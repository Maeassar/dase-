{
 "cells": [
  {
   "cell_type": "code",
   "execution_count": 4,
   "id": "85e1a23a-0615-43f8-b561-ae9314dbe750",
   "metadata": {},
   "outputs": [
    {
     "name": "stdin",
     "output_type": "stream",
     "text": [
      " 203.179.25.37\n"
     ]
    },
    {
     "name": "stdout",
     "output_type": "stream",
     "text": [
      "11001011.10110011.00011001.00100101\n"
     ]
    }
   ],
   "source": [
    "\n",
    "def change(x):\n",
    "    list = []\n",
    "    x=int(x)\n",
    "    while x >= 1:\n",
    "        list.append(x%2)\n",
    "        x = int((x - (x%2)) / 2)\n",
    "    list_new = list[::(-1)]\n",
    "    return (\"\".join(str(i) for i in list_new))\n",
    "    \n",
    "def ip_change(ip):\n",
    "    list_ip = ip.split('.')\n",
    "    input_ip = []\n",
    "    for i in list_ip:\n",
    "        temp_ip = change(i).lstrip('0b')\n",
    "        if len(temp_ip) != 8:\n",
    "            cont = 8 - len(temp_ip)\n",
    "            temp_ip = cont * '0' + temp_ip\n",
    "        input_ip.append(temp_ip)\n",
    "    return '.'.join(input_ip)\n",
    "            \n",
    "        \n",
    "x = input()\n",
    "print(ip_change(x))\n"
   ]
  },
  {
   "cell_type": "code",
   "execution_count": 1,
   "id": "304b6676-3a6a-4de3-8fcb-3aa8f9e0268d",
   "metadata": {},
   "outputs": [
    {
     "name": "stdout",
     "output_type": "stream",
     "text": [
      "2\n",
      "4\n",
      "2\n",
      "0\n"
     ]
    }
   ],
   "source": [
    "class Queue():\n",
    "    def __init__(self):\n",
    "        self.items = []\n",
    "        self.front = 0\n",
    "        self.rear = 0\n",
    "        \n",
    "    def size(self):\n",
    "        size_s = self.rear - self.front\n",
    "        return size_s\n",
    "    \n",
    "    def isempty(self):\n",
    "        if len(self.items)== 0:\n",
    "            return 1\n",
    "        else:\n",
    "            return 0\n",
    "            \n",
    "    def push(self, ele):\n",
    "        self.items.append(ele)\n",
    "        self.rear = self.rear + 1\n",
    "        \n",
    "    def pop(self):\n",
    "        self.front = self.front + 1\n",
    "        \n",
    "        \n",
    "    def serve_h(self):\n",
    "        try:\n",
    "            return self.items[self.front]\n",
    "            \n",
    "        except:\n",
    "            print('Error')\n",
    "            \n",
    "    def serve_r(self):\n",
    "        try:\n",
    "            return self.items[self.rear-1]\n",
    "        except:\n",
    "            print('Error')\n",
    "        \n",
    "        \n",
    "q = Queue()\n",
    "q.push(1)\n",
    "q.push(3)\n",
    "q.push(2)\n",
    "q.push(4)\n",
    "q.pop()\n",
    "q.pop()\n",
    "print(q.serve_h())\n",
    "print(q.serve_r())\n",
    "print(q.size())\n",
    "print(q.isempty())"
   ]
  },
  {
   "cell_type": "code",
   "execution_count": 3,
   "id": "18b4fc96-0898-41cb-a751-aa4c48474f81",
   "metadata": {},
   "outputs": [
    {
     "name": "stdout",
     "output_type": "stream",
     "text": [
      "[[3], [5, 1], [6, 2, 0, 8], [7, 4]]\n"
     ]
    }
   ],
   "source": [
    "class TreeNode:\n",
    "    def __init__(self, data=None,left=None,right=None):\n",
    "        self.val = data\n",
    "        self.left = None\n",
    "        self.right = None\n",
    "        \n",
    "def tra_queue(root):\n",
    "    res = []\n",
    "    if not root:\n",
    "        return None\n",
    "    queue = [root]\n",
    "    while len(queue) > 0:\n",
    "        n = len(queue)\n",
    "        r = []\n",
    "        i = 0\n",
    "        for i in range(n):\n",
    "            node = queue.pop(0)\n",
    "            r.append(node.val)\n",
    "            if node.left:\n",
    "                queue.append(node.left)\n",
    "            if node.right:\n",
    "                queue.append(node.right)\n",
    "        res.append(r)\n",
    "    return res\n",
    "        \n",
    "node1 = TreeNode(3)\n",
    "node2 = TreeNode(5)\n",
    "node3 = TreeNode(1)\n",
    "node4 = TreeNode(6)\n",
    "node5 = TreeNode(2)\n",
    "node6 = TreeNode(0)\n",
    "node7 = TreeNode(8)\n",
    "node8 = TreeNode(7)\n",
    "node9 = TreeNode(4)\n",
    "\n",
    "node1.left,node1.right = node2,node3\n",
    "node2.left,node2.right = node4,node5\n",
    "node3.left,node3.right = node6,node7\n",
    "node5.left,node5.right = node8,node9\n",
    "\n",
    "root = node1\n",
    "\n",
    "print(tra_queue(root))"
   ]
  },
  {
   "cell_type": "code",
   "execution_count": 4,
   "id": "d9819dac-1bce-4ea0-91ca-a38d571fd2b7",
   "metadata": {},
   "outputs": [
    {
     "name": "stdout",
     "output_type": "stream",
     "text": [
      "6 7 4 0 8 "
     ]
    }
   ],
   "source": [
    "class TreeNode:\n",
    "    def __init__(self, data=None,left=None,right=None):\n",
    "        self.val = data\n",
    "        self.left = None\n",
    "        self.right = None\n",
    "        \n",
    "def leaf_travel(root):\n",
    "    if not root:\n",
    "        return None\n",
    "    queue = [root]\n",
    "    while len(queue) > 0:\n",
    "        node = queue.pop()\n",
    "        if node.left == None and node.right == None:\n",
    "            print(node.val,end = \" \")\n",
    "        if node.right:\n",
    "            queue.append(node.right)\n",
    "        if node.left:\n",
    "            queue.append(node.left)\n",
    "        \n",
    "node1 = TreeNode(3)\n",
    "node2 = TreeNode(5)\n",
    "node3 = TreeNode(1)\n",
    "node4 = TreeNode(6)\n",
    "node5 = TreeNode(2)\n",
    "node6 = TreeNode(0)\n",
    "node7 = TreeNode(8)\n",
    "node8 = TreeNode(7)\n",
    "node9 = TreeNode(4)\n",
    "\n",
    "node1.left,node1.right = node2,node3\n",
    "node2.left,node2.right = node4,node5\n",
    "node3.left,node3.right = node6,node7\n",
    "node5.left,node5.right = node8,node9\n",
    "\n",
    "root = node1\n",
    "leaf_travel(root)"
   ]
  },
  {
   "cell_type": "code",
   "execution_count": 1,
   "id": "93cf167e-430f-43f6-8d40-ed5ada292173",
   "metadata": {},
   "outputs": [
    {
     "name": "stdin",
     "output_type": "stream",
     "text": [
      " 18918565550\n"
     ]
    },
    {
     "name": "stdout",
     "output_type": "stream",
     "text": [
      "<re.Match object; span=(0, 11), match='18918565550'>\n"
     ]
    }
   ],
   "source": [
    "import re\n",
    "p = '^((13[0-9])|(14[5,7,9])|(15[^4])|(18[0-9])|(17[0,1,3,5,6,7,8]))\\\\d{8}$'\n",
    "s = input()\n",
    "print(re.match(p,s))"
   ]
  }
 ],
 "metadata": {
  "kernelspec": {
   "display_name": "Python 3 (ipykernel)",
   "language": "python",
   "name": "python3"
  },
  "language_info": {
   "codemirror_mode": {
    "name": "ipython",
    "version": 3
   },
   "file_extension": ".py",
   "mimetype": "text/x-python",
   "name": "python",
   "nbconvert_exporter": "python",
   "pygments_lexer": "ipython3",
   "version": "3.9.12"
  }
 },
 "nbformat": 4,
 "nbformat_minor": 5
}
